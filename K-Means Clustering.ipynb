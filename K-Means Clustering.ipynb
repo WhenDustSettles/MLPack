{
 "cells": [
  {
   "cell_type": "markdown",
   "metadata": {},
   "source": [
    "# K-Means Clustering Algorithm "
   ]
  },
  {
   "cell_type": "code",
   "execution_count": 156,
   "metadata": {},
   "outputs": [],
   "source": [
    "import numpy as np\n",
    "import matplotlib.pyplot as plt\n",
    "import matplotlib"
   ]
  },
  {
   "cell_type": "markdown",
   "metadata": {},
   "source": [
    "## 2D Clustering "
   ]
  },
  {
   "cell_type": "markdown",
   "metadata": {},
   "source": [
    "### 1. Generating the Clusters"
   ]
  },
  {
   "cell_type": "code",
   "execution_count": 80,
   "metadata": {},
   "outputs": [],
   "source": [
    "x = np.append(np.random.normal(1.5, 1, 200), np.random.normal(5, 1, 200))\n",
    "x = np.append(x,np.random.normal(-2,1,200))"
   ]
  },
  {
   "cell_type": "code",
   "execution_count": 81,
   "metadata": {},
   "outputs": [],
   "source": [
    "y = np.append(np.random.normal(1.5, 1, 200), np.random.normal(5, 1, 200))\n",
    "y = np.append(y,np.random.normal(-2,1,200))"
   ]
  },
  {
   "cell_type": "code",
   "execution_count": 199,
   "metadata": {},
   "outputs": [
    {
     "data": {
      "text/plain": [
       "<matplotlib.collections.PathCollection at 0x7f007d31aad0>"
      ]
     },
     "execution_count": 199,
     "metadata": {},
     "output_type": "execute_result"
    },
    {
     "data": {
      "image/png": "[encoded data removed]",
      "text/plain": [
       "<Figure size 432x288 with 1 Axes>"
      ]
     },
     "metadata": {
      "needs_background": "light"
     },
     "output_type": "display_data"
    }
   ],
   "source": [
    "plt.scatter(x,y)"
   ]
  },
  {
   "cell_type": "markdown",
   "metadata": {},
   "source": [
    "We have three clusters to segregate."
   ]
  },
  {
   "cell_type": "markdown",
   "metadata": {},
   "source": [
    "### 2. Clustering Algorithm"
   ]
  },
  {
   "cell_type": "code",
   "execution_count": 84,
   "metadata": {},
   "outputs": [],
   "source": [
    "mu1, mu2, mu3 = 12*np.random.random(3) - 4"
   ]
  },
  {
   "cell_type": "code",
   "execution_count": 139,
   "metadata": {},
   "outputs": [
    {
     "data": {
      "text/plain": [
       "(5.157053968676511, -2.165311022759416, 5.0786423723012355)"
      ]
     },
     "execution_count": 139,
     "metadata": {},
     "output_type": "execute_result"
    }
   ],
   "source": [
    "mu1, mu2, mu3"
   ]
  },
  {
   "cell_type": "code",
   "execution_count": 200,
   "metadata": {},
   "outputs": [],
   "source": [
    "def KMeansClusterer1D(values, n, init_mu, n_iter = 10 ):\n",
    "    \n",
    "    '''\n",
    "    values : 1D Vector containing values to cluster\n",
    "    n : Number of clusters to make\n",
    "    init_mu : list containing 'n' values for initial centres\n",
    "    \n",
    "    RETURNS:\n",
    "    new_mu : list of new clusters location\n",
    "    radius : list of cluster radius\n",
    "    '''\n",
    "    \n",
    "    assert len(init_mu) == n\n",
    "    \n",
    "    \n",
    "    for i in range(n_iter):\n",
    "        \n",
    "        val_mu_diff = np.reshape(np.power(values - init_mu[0], 2), [-1,1])\n",
    "        #To calculate x_i - mu_c \n",
    "        ## and\n",
    "        #To calculate cluster which minimizes square of val_mu_diff\n",
    "        for j in range(1,n):\n",
    "            val_mu_diff = np.concatenate([ val_mu_diff, np.reshape(np.power(values - init_mu[j], 2), [-1,1]) ], axis = 1)\n",
    "            \n",
    "        c = np.argmin(val_mu_diff, axis = 1)\n",
    "        \n",
    "        #Updating Centroids\n",
    "        new_mu = []\n",
    "        for j in range(n):\n",
    "            \n",
    "            temp = values[c == j]\n",
    "            new_mu.append(np.sum(temp) / len(temp))\n",
    "        \n",
    "        init_mu = new_mu\n",
    "        \n",
    "    \n",
    "    #To calculate Radius of each cluster\n",
    "    radius = []\n",
    "    for j in range(n):\n",
    "        temp = values[c == j]\n",
    "        radius.append(np.abs(np.max(temp) - new_mu[j]))        \n",
    "        \n",
    "    return new_mu, radius"
   ]
  },
  {
   "cell_type": "code",
   "execution_count": 201,
   "metadata": {
    "scrolled": true
   },
   "outputs": [],
   "source": [
    "new_mu_x, rad_x = KMeansClusterer1D(x, 3 ,[mu1, mu2, mu3], 1000)"
   ]
  },
  {
   "cell_type": "code",
   "execution_count": 202,
   "metadata": {},
   "outputs": [
    {
     "data": {
      "text/plain": [
       "[4.975920224149827, -2.048117222530764, 1.496062570250499]"
      ]
     },
     "execution_count": 202,
     "metadata": {},
     "output_type": "execute_result"
    }
   ],
   "source": [
    "new_mu_x"
   ]
  },
  {
   "cell_type": "code",
   "execution_count": 203,
   "metadata": {},
   "outputs": [
    {
     "data": {
      "text/plain": [
       "[2.8649971557860354, 1.743378403322101, 1.7367255053103032]"
      ]
     },
     "execution_count": 203,
     "metadata": {},
     "output_type": "execute_result"
    }
   ],
   "source": [
    "rad_x"
   ]
  },
  {
   "cell_type": "code",
   "execution_count": 204,
   "metadata": {},
   "outputs": [],
   "source": [
    "new_mu_y, rad_y = KMeansClusterer1D(y, 3 ,[mu1, mu2, mu3], 1000)"
   ]
  },
  {
   "cell_type": "code",
   "execution_count": 205,
   "metadata": {},
   "outputs": [
    {
     "data": {
      "text/plain": [
       "[5.038553956823246, -2.005877576393779, 1.5157889557309736]"
      ]
     },
     "execution_count": 205,
     "metadata": {},
     "output_type": "execute_result"
    }
   ],
   "source": [
    "new_mu_y"
   ]
  },
  {
   "cell_type": "code",
   "execution_count": 206,
   "metadata": {},
   "outputs": [
    {
     "data": {
      "text/plain": [
       "[3.308057816376178, 1.7353647455283228, 1.738036665366932]"
      ]
     },
     "execution_count": 206,
     "metadata": {},
     "output_type": "execute_result"
    }
   ],
   "source": [
    "rad_y"
   ]
  },
  {
   "cell_type": "markdown",
   "metadata": {},
   "source": [
    "### 3. Final Result"
   ]
  },
  {
   "cell_type": "code",
   "execution_count": 207,
   "metadata": {},
   "outputs": [
    {
     "data": {
      "text/plain": [
       "<matplotlib.patches.Circle at 0x7f007d2d1a90>"
      ]
     },
     "execution_count": 207,
     "metadata": {},
     "output_type": "execute_result"
    },
    {
     "data": {
      "image/png": "[encoded data removed]",
      "text/plain": [
       "<Figure size 432x288 with 1 Axes>"
      ]
     },
     "metadata": {
      "needs_background": "light"
     },
     "output_type": "display_data"
    }
   ],
   "source": [
    "fig, ax = plt.subplots()\n",
    "plt.scatter(x,y)\n",
    "\n",
    "\n",
    "circle1 = plt.Circle((new_mu_x[0], new_mu_y[0]), np.sqrt(rad_x[0]**2 + rad_y[0]**2) ,alpha = 0.35, fc = 'purple')\n",
    "circle2 = plt.Circle((new_mu_x[1], new_mu_y[1]), np.sqrt(rad_x[1]**2 + rad_y[1]**2) ,alpha = 0.35, fc = 'cyan')\n",
    "circle3 = plt.Circle((new_mu_x[2], new_mu_y[2]), np.sqrt(rad_x[2]**2 + rad_y[2]**2) ,alpha = 0.35, fc = 'green')\n",
    "\n",
    "ax.add_artist(circle1)\n",
    "ax.add_artist(circle2)\n",
    "ax.add_artist(circle3)"
   ]
  },
  {
   "cell_type": "markdown",
   "metadata": {},
   "source": [
    "Good stuff."
   ]
  }
 ],
 "metadata": {
  "kernelspec": {
   "display_name": "Python 3",
   "language": "python",
   "name": "python3"
  },
  "language_info": {
   "codemirror_mode": {
    "name": "ipython",
    "version": 3
   },
   "file_extension": ".py",
   "mimetype": "text/x-python",
   "name": "python",
   "nbconvert_exporter": "python",
   "pygments_lexer": "ipython3",
   "version": "3.7.4"
  }
 },
 "nbformat": 4,
 "nbformat_minor": 4
}
