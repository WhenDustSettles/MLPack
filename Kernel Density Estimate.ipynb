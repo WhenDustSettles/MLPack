{
 "cells": [
  {
   "cell_type": "markdown",
   "metadata": {},
   "source": [
    "# Kernel Density Estimation"
   ]
  },
  {
   "cell_type": "code",
   "execution_count": 1,
   "metadata": {},
   "outputs": [],
   "source": [
    "import numpy as np\n",
    "import matplotlib.pyplot as plt"
   ]
  },
  {
   "cell_type": "markdown",
   "metadata": {},
   "source": [
    "We will implement the Kernels in these format:\n",
    "\n",
    "$\\hat f(x) = \\frac{1}{N} \\sum_{i = 0}^N K((x - x_i)/h)$"
   ]
  },
  {
   "cell_type": "markdown",
   "metadata": {},
   "source": [
    "Where we specefically implement Kernel as a one parameter function, as shown below."
   ]
  },
  {
   "cell_type": "code",
   "execution_count": 2,
   "metadata": {},
   "outputs": [],
   "source": [
    "class KDE:\n",
    "    \n",
    "    \"\"\"\n",
    "    >>>>>>>>>>>>>  Kernel Density Estimation  <<<<<<<<<<<<<<<<<\n",
    "    \n",
    "    Data should be uni dimensional numpy array of shape [n_data] for this to work.\n",
    "    \"\"\"\n",
    "    \n",
    "    def __init__(self, data, kernel = 'gaussian', bandwidth = 'infer'):\n",
    "        \n",
    "        if data.ndim != 1:\n",
    "            raise ValueError(\"Data should be 1 dimensional numpy array\")\n",
    "        self.data = data\n",
    "        self.kernel = kernel\n",
    "        self.bandwidth = bandwidth\n",
    "        self.result = None\n",
    "        \n",
    "    def GaussianKernel(self, x):\n",
    "        \"\"\"\n",
    "        General Definition fro Kernels used:\n",
    "        \n",
    "        This Kernel and all subsequent ones take a 2D input, \n",
    "        operate the usual one parameter form on each input (along with the constants too)\n",
    "        and return the sum along axis 1 of it.\n",
    "        \"\"\"\n",
    "        \n",
    "        result = np.sum((1/np.sqrt(2*np.pi)) * np.exp( -0.5 * np.power((x),2) ), axis = 1)\n",
    "        return result\n",
    "        \n",
    "    \n",
    "    \n",
    "        \n",
    "    def UniformKernel(self, x):\n",
    "        \"\"\" Also called BOX KERNEL\n",
    "        \n",
    "        This works in a different way in the sense that it\n",
    "        returns a 1D Vector of the final values directly, exploiting the innate \n",
    "        easiness of the Kernel.\n",
    "        \n",
    "        OTHER KERNELS ALSO WORKS IN THIS WAY\n",
    "        \"\"\"\n",
    "        result = np.sum(0.5 * (np.abs(x) <= 1), axis = 1)\n",
    "        return result\n",
    "    \n",
    "    def EpanechnikovKernel(self, x):\n",
    "        \n",
    "        result = np.sum((3/4) * ((1-np.power(x,2)) * (np.abs(x) <= 1)), axis = 1)\n",
    "        return result\n",
    "    \n",
    "    def TriangularKernel(self, x):\n",
    "        \n",
    "        result = np.sum( ((1 - np.abs(x))*(np.abs(x) <= 1)) , axis = 1)\n",
    "        return result\n",
    "    \n",
    "    def QuarticKernel(self, x):\n",
    "        \n",
    "        result = np.sum( (15/16)*np.power((1-np.power(x,2)),2)*(np.abs(x) <= 1) , axis = 1)\n",
    "        return result\n",
    "    \n",
    "    def CosinusKernel(self, x):\n",
    "        \n",
    "        result = np.sum( (np.pi / 4)*np.cos((np.pi/2)*x)*(np.abs(x) <= 1) , axis = 1)\n",
    "        return result\n",
    "    \n",
    "    def OptimalBandwidth(self, data):\n",
    "        \"\"\"\n",
    "        Finds Optimal bandwidth by minimizing AMISE.\n",
    "        \"\"\"\n",
    "        mean = np.mean(data)\n",
    "        sigma_hat = np.sqrt(np.sum(np.power(data - mean,2)) / data.shape[0])\n",
    "        \n",
    "        optimal =  np.power((4/(3*data.shape[0])),0.2)*sigma_hat\n",
    "    \n",
    "        return optimal\n",
    "        \n",
    "    def CalcKernel(self, data, x, bandwidth, kernel):\n",
    "        \n",
    "        \"\"\"\n",
    "        data : shape [N], The points sampled from the unknown distribution p(x)\n",
    "        x : shape [n], points on the X - axis (to plot the graph)\n",
    "        bandwidth : the bandwidth.\n",
    "        \"\"\"\n",
    "        \n",
    "        if bandwidth == 'infer':\n",
    "            self.bandwidth = self.OptimalBandwidth(data)\n",
    "        \n",
    "        u = (np.reshape(x,[-1,1])-data)/self.bandwidth\n",
    "        N = data.shape[0]\n",
    "        \n",
    "        if kernel == 'gaussian':\n",
    "            return (1/N)*(self.GaussianKernel(u))\n",
    "            \n",
    "        elif ((kernel == 'uniform') or (kernel == 'box')):\n",
    "            return (1/N)*(self.UniformKernel(u))\n",
    "    \n",
    "        elif kernel == 'epanechnikov':\n",
    "            return (1/N)*(self.EpanechnikovKernel(u))\n",
    "            \n",
    "        elif kernel == 'triangle':\n",
    "            return (1/N)*(self.TriangularKernel(u))\n",
    "        \n",
    "        elif kernel == 'quartic':\n",
    "            return (1/N)*(self.QuarticKernel(u))\n",
    "        \n",
    "        elif kernel == 'cosine':\n",
    "            return (1/N)*(self.CosinusKernel(u))\n",
    "        \n",
    "        else:\n",
    "            raise NotImplementedError(\"Kernel '{}' not implemented yet.\".format(kernel))\n",
    "            \n",
    "        \n",
    "            \n",
    "    def plot(self, x_data ):\n",
    "        \"\"\"\n",
    "        x : X - axis points for plotting.\n",
    "        \"\"\"\n",
    "        \n",
    "        y = self.CalcKernel(self.data, x_data, self.bandwidth, self.kernel)\n",
    "        \n",
    "        x_pts = np.zeros_like(self.data)\n",
    "        \n",
    "        plt.plot(x_data,y, 'b', label = 'KDE')\n",
    "        plt.scatter(self.data, x_pts, marker = '+', c = 'r', label = 'Sample points')\n",
    "        plt.legend()\n",
    "        \n",
    "        \n",
    "    \n",
    "    def getKDE(self, x_data):\n",
    "        \n",
    "        y = self.CalcKernel(self.data, x_data, self.bandwidth, self.kernel)\n",
    "        \n",
    "        return y"
   ]
  },
  {
   "cell_type": "code",
   "execution_count": 3,
   "metadata": {},
   "outputs": [],
   "source": [
    "kde = KDE(np.array([1,4,3,7,6,4]), kernel='epanechnikov')"
   ]
  },
  {
   "cell_type": "code",
   "execution_count": 4,
   "metadata": {},
   "outputs": [],
   "source": [
    "x = np.linspace(-2,10,10000)"
   ]
  },
  {
   "cell_type": "code",
   "execution_count": 5,
   "metadata": {},
   "outputs": [
    {
     "data": {
      "image/png": "[encoded data removed]",
      "text/plain": [
       "<Figure size 432x288 with 1 Axes>"
      ]
     },
     "metadata": {
      "needs_background": "light"
     },
     "output_type": "display_data"
    }
   ],
   "source": [
    "kde.plot(x)"
   ]
  },
  {
   "cell_type": "code",
   "execution_count": 6,
   "metadata": {},
   "outputs": [
    {
     "data": {
      "text/plain": [
       "array([0., 0., 0., ..., 0., 0., 0.])"
      ]
     },
     "execution_count": 6,
     "metadata": {},
     "output_type": "execute_result"
    }
   ],
   "source": [
    "kde.getKDE(x)"
   ]
  }
 ],
 "metadata": {
  "kernelspec": {
   "display_name": "Python 3",
   "language": "python",
   "name": "python3"
  },
  "language_info": {
   "codemirror_mode": {
    "name": "ipython",
    "version": 3
   },
   "file_extension": ".py",
   "mimetype": "text/x-python",
   "name": "python",
   "nbconvert_exporter": "python",
   "pygments_lexer": "ipython3",
   "version": "3.7.4"
  }
 },
 "nbformat": 4,
 "nbformat_minor": 4
}
