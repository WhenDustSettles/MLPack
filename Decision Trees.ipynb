{
 "cells": [
  {
   "cell_type": "markdown",
   "metadata": {},
   "source": [
    "# Decision Trees Implementation\n"
   ]
  },
  {
   "cell_type": "code",
   "execution_count": 1,
   "metadata": {},
   "outputs": [],
   "source": [
    "import numpy as np\n",
    "import pandas as pd"
   ]
  },
  {
   "cell_type": "markdown",
   "metadata": {},
   "source": [
    "## 1. Gini Impurity"
   ]
  },
  {
   "cell_type": "markdown",
   "metadata": {},
   "source": [
    "The Cost function used to split the data."
   ]
  },
  {
   "cell_type": "markdown",
   "metadata": {},
   "source": [
    "Gini score gives you an idea how good a given split is by measuring how mixed each split actually is."
   ]
  },
  {
   "cell_type": "markdown",
   "metadata": {},
   "source": [
    "It is calculated as the following :\n",
    "\n",
    "$G_i = 1 - \\sum_{k=1}^{n}p_{i,k}^2$\n",
    "\n",
    "where, $G_i$ is the Gini score for the $i^{th}$ node and $p_{i,k}$ is the ratio of class $k$ instances among the training instances in the $i^{th}$ node."
   ]
  },
  {
   "cell_type": "code",
   "execution_count": 4,
   "metadata": {},
   "outputs": [],
   "source": [
    "def NodesGiniScore(arrNodes):\n",
    "    \"\"\"\n",
    "    Takes a Numpy Array containing Node's no. of class instances for each class\n",
    "    & returns each Node's Gini Score\n",
    "    \n",
    "    arrNodes : shape = [No. of Nodes, No. of Classes], np.array type containing of Nodes with each \n",
    "                element containing the number of class instances\n",
    "    \n",
    "    RETURNS : \n",
    "    \n",
    "    Vector containing the Gini score of each Node that was passed \n",
    "    \n",
    "    Example:\n",
    "    \n",
    "    IN>>NodesGiniScore(np.array([[1,1,34],[1,2,3], [50,50,50]]))\n",
    "    OUT>>array([0.10648148, 0.61111111, 0.66666667])\n",
    "    \n",
    "    \n",
    "    \"\"\"\n",
    "    \n",
    "    Nodesums = np.sum(arrNodes, axis = 1)\n",
    "    \n",
    "    Nodesums = Nodesums.astype(np.float64)\n",
    "    \n",
    "    Nodesums[Nodesums == 0] = np.inf\n",
    "    \n",
    "    return 1 - np.sum(np.power(arrNodes*np.reshape((1/Nodesums),[-1,1]),2), axis = 1)\n",
    "    "
   ]
  },
  {
   "cell_type": "code",
   "execution_count": 5,
   "metadata": {},
   "outputs": [
    {
     "data": {
      "text/plain": [
       "array([0.10648148, 0.61111111, 0.66666667])"
      ]
     },
     "execution_count": 5,
     "metadata": {},
     "output_type": "execute_result"
    }
   ],
   "source": [
    "NodesGiniScore(np.array([[1,1,34],[1,2,3], [50,50,50]]))"
   ]
  },
  {
   "cell_type": "code",
   "execution_count": 6,
   "metadata": {},
   "outputs": [],
   "source": [
    "def Split_GiniIndex(splitL, splitR, n_classes):\n",
    "    \"\"\"\n",
    "    Calculates the Gini Index (or the Cost for the split) for the \n",
    "    split nodes entered.\n",
    "    \n",
    "    splitL, splitR : Arrays of shape = [No. of Rows for this split, No. of features], the array after splitting the dataset\n",
    "    n_classes : The number of classes.\n",
    "\n",
    "    NOTE: 1. Function expects for the last feature/column to contain the Class Index\n",
    "             in the numerical form, i.e. like 0,1,2,...,n-1\n",
    "             \n",
    "          2. This function also neglects that split which is empty\n",
    "    \n",
    "    RETURNS:\n",
    "    \n",
    "    The final Gini Index for this Split.\n",
    "    \"\"\"\n",
    "    \n",
    "    \n",
    "    valuesL = np.zeros(n_classes)\n",
    "    valuesR = np.zeros(n_classes)\n",
    "    \n",
    "    if splitL.shape[0] == 0:\n",
    "        for i in range(n_classes):\n",
    "            valuesR[i] = np.sum(splitR[:,-1] == i)\n",
    "    elif splitR.shape[0] == 0:\n",
    "        for i in range(n_classes):\n",
    "            valuesL[i] = np.sum(splitL[:,-1] == i)\n",
    "    else:\n",
    "        for i in range(n_classes):\n",
    "            valuesR[i] = np.sum(splitR[:,-1] == i)\n",
    "            valuesL[i] = np.sum(splitL[:,-1] == i)\n",
    "\n",
    "    \n",
    "        \n",
    "    GiniL, GiniR = NodesGiniScore([valuesL, valuesR])\n",
    "    \n",
    "    Lrows = splitL.shape[0]\n",
    "    Rrows = splitR.shape[0]\n",
    "    \n",
    "    GiniIndex = GiniL * Lrows/(Lrows+Rrows) + GiniR * Rrows/(Lrows+Rrows) \n",
    "    \n",
    "    return GiniIndex"
   ]
  },
  {
   "cell_type": "markdown",
   "metadata": {},
   "source": [
    "## 2. Splits"
   ]
  },
  {
   "cell_type": "markdown",
   "metadata": {},
   "source": [
    "It is comprised of an attribute in the dataset and a value."
   ]
  },
  {
   "cell_type": "markdown",
   "metadata": {},
   "source": [
    "Splitting is done by splitting a partiular attribute/feature by a threshold value."
   ]
  },
  {
   "cell_type": "markdown",
   "metadata": {},
   "source": [
    "### 2.1. Splitting the entirety of the dataset."
   ]
  },
  {
   "cell_type": "markdown",
   "metadata": {},
   "source": [
    "This can be explained as splitting the whole dataset into two subsets via a threshold value for a particular attribute."
   ]
  },
  {
   "cell_type": "markdown",
   "metadata": {},
   "source": [
    "Once we have the two subsets, we can use Gini Score to evaluate the cost of this particular split."
   ]
  },
  {
   "cell_type": "markdown",
   "metadata": {},
   "source": [
    "Splitting a dataset involves checking if the attribute value is below or above the split value for each row in the dataset and assigning it to the left or right group respectively."
   ]
  },
  {
   "cell_type": "code",
   "execution_count": 7,
   "metadata": {},
   "outputs": [],
   "source": [
    "def Splitter(values ,threshold, feature_index = 0):\n",
    "    \"\"\"\n",
    "    Splits the dataset (values) into two subsets via splitting through threshold\n",
    "    for feature present at feature_index\n",
    "    \n",
    "    values : shape = [No. of rows, No. of features], The dataset to split\n",
    "    threshold : Float, the value by which to compare and split the dataset\n",
    "    feature_index : Integer, the index of the feature(column) through which\n",
    "                    comparison will be drawn for splitting\n",
    "                    \n",
    "    RETURNS : \n",
    "    \n",
    "    The two splits done by threshold for feature_index.\n",
    "    \"\"\"\n",
    "    if feature_index >= values.shape[1]-1:\n",
    "        raise ValueError(\"feature_index {} is greater the possible column index values {}. Note that it's assumed that last column is for numerical class \".format(feature_index,values.shape[1]))\n",
    "    \n",
    "    left = values[values[:,feature_index] <= threshold]\n",
    "    right = values[values[:,feature_index] > threshold]\n",
    "    \n",
    "    return left, right"
   ]
  },
  {
   "cell_type": "code",
   "execution_count": 8,
   "metadata": {},
   "outputs": [],
   "source": [
    "a= np.array([[2.771244718,1.784783929,0],\n",
    "\t[1.728571309,1.169761413,0],\n",
    "\t[3.678319846,2.81281357,0],\n",
    "\t[3.961043357,2.61995032,0],\n",
    "\t[2.999208922,2.209014212,0],\n",
    "\t[7.497545867,3.162953546,1],\n",
    "\t[9.00220326,3.339047188,1],\n",
    "\t[7.444542326,0.476683375,1],\n",
    "\t[10.12493903,3.234550982,1],\n",
    "\t[6.642287351,3.319983761,1]])"
   ]
  },
  {
   "cell_type": "code",
   "execution_count": 9,
   "metadata": {},
   "outputs": [],
   "source": [
    "l,r = Splitter(a, 2.771244718, 0)"
   ]
  },
  {
   "cell_type": "code",
   "execution_count": 10,
   "metadata": {},
   "outputs": [
    {
     "data": {
      "text/plain": [
       "array([[2.77124472, 1.78478393, 0.        ],\n",
       "       [1.72857131, 1.16976141, 0.        ]])"
      ]
     },
     "execution_count": 10,
     "metadata": {},
     "output_type": "execute_result"
    }
   ],
   "source": [
    "l"
   ]
  },
  {
   "cell_type": "code",
   "execution_count": 11,
   "metadata": {},
   "outputs": [
    {
     "data": {
      "text/plain": [
       "array([[ 3.67831985,  2.81281357,  0.        ],\n",
       "       [ 3.96104336,  2.61995032,  0.        ],\n",
       "       [ 2.99920892,  2.20901421,  0.        ],\n",
       "       [ 7.49754587,  3.16295355,  1.        ],\n",
       "       [ 9.00220326,  3.33904719,  1.        ],\n",
       "       [ 7.44454233,  0.47668338,  1.        ],\n",
       "       [10.12493903,  3.23455098,  1.        ],\n",
       "       [ 6.64228735,  3.31998376,  1.        ]])"
      ]
     },
     "execution_count": 11,
     "metadata": {},
     "output_type": "execute_result"
    }
   ],
   "source": [
    "r"
   ]
  },
  {
   "cell_type": "code",
   "execution_count": 12,
   "metadata": {},
   "outputs": [
    {
     "data": {
      "text/plain": [
       "0.375"
      ]
     },
     "execution_count": 12,
     "metadata": {},
     "output_type": "execute_result"
    }
   ],
   "source": [
    "Split_GiniIndex(l, r, 2)"
   ]
  },
  {
   "cell_type": "code",
   "execution_count": 13,
   "metadata": {},
   "outputs": [
    {
     "data": {
      "text/plain": [
       "array([0.375])"
      ]
     },
     "execution_count": 13,
     "metadata": {},
     "output_type": "execute_result"
    }
   ],
   "source": [
    "NodesGiniScore([[2,0]])*(2/10) + NodesGiniScore([[3,5]])*(8/10)"
   ]
  },
  {
   "cell_type": "markdown",
   "metadata": {},
   "source": [
    "### 2.2. Split Evaluation"
   ]
  },
  {
   "cell_type": "markdown",
   "metadata": {},
   "source": [
    "To find the best possible split, we need to check for each value for each attribute, evaluate the cost of the split and fin the best possible split."
   ]
  },
  {
   "cell_type": "markdown",
   "metadata": {},
   "source": [
    "And once the best split is found, we use that as a node in our Tree."
   ]
  },
  {
   "cell_type": "markdown",
   "metadata": {},
   "source": [
    "Therefore we try each value for each attribute in the dataset and find the best split through Gini Score."
   ]
  },
  {
   "cell_type": "code",
   "execution_count": 87,
   "metadata": {},
   "outputs": [],
   "source": [
    "def SplitEvaluator(dataset, n_classes):\n",
    "    \"\"\"\n",
    "    Splits the dataset by each value in each attribute and then \n",
    "    finds the best split via Gini Impurity.\n",
    "    \n",
    "    dataset : Numpy array of shape = [No. of Rows, No. of features], the data itself in raw form.\n",
    "    \n",
    "    RETURNS : \n",
    "    \n",
    "    Returns the Matrix containing gini Index value for the split using that row's \n",
    "    feature and threshold and index of best split in this Matrix (thus, the dataset too.)\n",
    "    \n",
    "    giniIndexes : Shape = [dataset.shape[0], dataset.shape[1]-1]\n",
    "    (row, feat) : Coordinates for the best split in dataset or giniIndexes.\n",
    "    threshold and the feature index of the threshold.\n",
    "    \"\"\"\n",
    "    giniIndexes = np.zeros([dataset.shape[0], dataset.shape[1]-1]) #-1 to remove the class feature\n",
    "    \n",
    "    for feat_i in range(dataset.shape[1] - 1):\n",
    "        \n",
    "        for row_i in range(dataset.shape[0]):\n",
    "            \n",
    "            threshold = dataset[row_i,feat_i]\n",
    "            \n",
    "            splitL, splitR = Splitter(dataset, threshold, feat_i)\n",
    "            \n",
    "            #Calculate this split's Gini Index\n",
    "            \n",
    "            giniInd = Split_GiniIndex(splitL, splitR, n_classes)\n",
    "            \n",
    "            giniIndexes[row_i, feat_i] = giniInd\n",
    "              \n",
    "    coords =  np.argwhere(giniIndexes == np.min(giniIndexes))\n",
    "        \n",
    "    bestsplitL, bestsplitR = Splitter(dataset, dataset[coords[0,0], coords[0,1]], coords[0,1])\n",
    "    best_gini = giniIndexes[coords[0,0], coords[0,1]]\n",
    "    threshold = dataset[coords[0,0], coords[0,1]], coords[0,1]\n",
    "    \n",
    "    return giniIndexes, threshold, best_gini, bestsplitL, bestsplitR\n",
    "\n",
    "#{'GiniIndex':best_gini, 'NodeL': {'data': bestsplitL, 'NodeL':None, 'NodeR':None},\\\n",
    "                        #'NodeR': {'data': bestsplitR, 'NodeL':None, 'NodeR':None}  } "
   ]
  },
  {
   "cell_type": "code",
   "execution_count": 88,
   "metadata": {},
   "outputs": [],
   "source": [
    "M,thres, gini, l, r = SplitEvaluator(a, 2)"
   ]
  },
  {
   "cell_type": "code",
   "execution_count": 89,
   "metadata": {},
   "outputs": [
    {
     "data": {
      "text/plain": [
       "0.0"
      ]
     },
     "execution_count": 89,
     "metadata": {},
     "output_type": "execute_result"
    }
   ],
   "source": [
    "gini"
   ]
  },
  {
   "cell_type": "code",
   "execution_count": 90,
   "metadata": {},
   "outputs": [
    {
     "data": {
      "text/plain": [
       "(3.961043357, 0)"
      ]
     },
     "execution_count": 90,
     "metadata": {},
     "output_type": "execute_result"
    }
   ],
   "source": [
    "thres"
   ]
  },
  {
   "cell_type": "code",
   "execution_count": 91,
   "metadata": {},
   "outputs": [
    {
     "data": {
      "text/plain": [
       "array([[2.77124472, 1.78478393, 0.        ],\n",
       "       [1.72857131, 1.16976141, 0.        ],\n",
       "       [3.67831985, 2.81281357, 0.        ],\n",
       "       [3.96104336, 2.61995032, 0.        ],\n",
       "       [2.99920892, 2.20901421, 0.        ]])"
      ]
     },
     "execution_count": 91,
     "metadata": {},
     "output_type": "execute_result"
    }
   ],
   "source": [
    "l"
   ]
  },
  {
   "cell_type": "code",
   "execution_count": 92,
   "metadata": {},
   "outputs": [
    {
     "data": {
      "text/plain": [
       "array([[ 7.49754587,  3.16295355,  1.        ],\n",
       "       [ 9.00220326,  3.33904719,  1.        ],\n",
       "       [ 7.44454233,  0.47668338,  1.        ],\n",
       "       [10.12493903,  3.23455098,  1.        ],\n",
       "       [ 6.64228735,  3.31998376,  1.        ]])"
      ]
     },
     "execution_count": 92,
     "metadata": {},
     "output_type": "execute_result"
    }
   ],
   "source": [
    "r"
   ]
  },
  {
   "cell_type": "code",
   "execution_count": 93,
   "metadata": {},
   "outputs": [
    {
     "data": {
      "text/plain": [
       "array([[ 2.77124472,  1.78478393,  0.        ],\n",
       "       [ 1.72857131,  1.16976141,  0.        ],\n",
       "       [ 3.67831985,  2.81281357,  0.        ],\n",
       "       [ 3.96104336,  2.61995032,  0.        ],\n",
       "       [ 2.99920892,  2.20901421,  0.        ],\n",
       "       [ 7.49754587,  3.16295355,  1.        ],\n",
       "       [ 9.00220326,  3.33904719,  1.        ],\n",
       "       [ 7.44454233,  0.47668338,  1.        ],\n",
       "       [10.12493903,  3.23455098,  1.        ],\n",
       "       [ 6.64228735,  3.31998376,  1.        ]])"
      ]
     },
     "execution_count": 93,
     "metadata": {},
     "output_type": "execute_result"
    }
   ],
   "source": [
    "a"
   ]
  },
  {
   "cell_type": "markdown",
   "metadata": {},
   "source": [
    "## 3. Tree Building"
   ]
  },
  {
   "cell_type": "markdown",
   "metadata": {},
   "source": [
    "We will either have Leaf/Terminal Node or those nodes built by Recursive Splitting."
   ]
  },
  {
   "cell_type": "markdown",
   "metadata": {},
   "source": [
    "Making a Node Class"
   ]
  },
  {
   "cell_type": "code",
   "execution_count": 94,
   "metadata": {},
   "outputs": [],
   "source": [
    "def NodeGinifromData(data, n_classes):\n",
    "    \"\"\"\n",
    "    Calculates Gini Score for a Node from the data directly\n",
    "    \n",
    "    data : Array of shape = [n_rows, n_features]\n",
    "    \"\"\"\n",
    "    \n",
    "    values = np.zeros([n_classes])\n",
    "    \n",
    "    for i in range(n_classes):\n",
    "        values[i] = np.sum(data[data[:,-1] == i])\n",
    "        \n",
    "    return NodesGiniScore([values])"
   ]
  },
  {
   "cell_type": "code",
   "execution_count": 95,
   "metadata": {},
   "outputs": [],
   "source": [
    "class TreeNode:\n",
    "    \n",
    "    def __init__(self, data, NodeL, NodeR, n_classes):\n",
    "        \n",
    "        assert data.ndim == 2\n",
    "        \n",
    "        self.data = data\n",
    "        self.values = np.zeros(n_classes)\n",
    "        for i in range(n_classes):\n",
    "            self.values[i] = np.sum(self.data[:,-1] == i)\n",
    "        self.NodeL = NodeL\n",
    "        self.NodeR = NodeR\n",
    "        self.giniScore = NodeGinifromData(self.data, n_classes)[0]\n",
    "        self.threshold = None\n",
    "        if (((self.NodeL != None) or (self.NodeR!= None)) and self.threshold == None):\n",
    "            raise ValueError(\"Node's Threshold not set before splitting.\")\n",
    "    "
   ]
  },
  {
   "cell_type": "code",
   "execution_count": 96,
   "metadata": {},
   "outputs": [],
   "source": [
    "Node = TreeNode(np.array([[1,0],[24,1]]),None,None,3)"
   ]
  },
  {
   "cell_type": "code",
   "execution_count": 97,
   "metadata": {},
   "outputs": [
    {
     "data": {
      "text/plain": [
       "0.07396449704142016"
      ]
     },
     "execution_count": 97,
     "metadata": {},
     "output_type": "execute_result"
    }
   ],
   "source": [
    "Node.giniScore"
   ]
  },
  {
   "cell_type": "markdown",
   "metadata": {},
   "source": [
    "### 3.1. Leaf Nodes"
   ]
  },
  {
   "cell_type": "markdown",
   "metadata": {},
   "source": [
    "The Leaf Nodes will be formed only when either :\n",
    "\n",
    "1. Maximum Tree Depth : If the next node which we add to tree exceeds this pre-defined number then we don't add this node. The problem is that deeper trees generally will overfit the data.\n",
    "                        \n",
    "2. Minimum Node Samples : This is the minimum number of training patterns that a given node is responsible for. Once at or below                             this minimum, we must stop splitting and adding new nodes. Nodes that account for too few training                                 patterns are expected to be too specific and are likely to overfit the training data.\n",
    "\n",
    "3. One-sided Split : It is possible that a split may result in one side getting all the data. If this happens then clearly it's not possible to split further, thus we stop at this too."
   ]
  },
  {
   "cell_type": "markdown",
   "metadata": {},
   "source": [
    "To make Predictions, in the leaf node, we just calculate the index of the class which has maximum entries"
   ]
  },
  {
   "cell_type": "code",
   "execution_count": 98,
   "metadata": {},
   "outputs": [],
   "source": [
    "def LeafClass(LeafValues):\n",
    "    \"\"\"\n",
    "    Returns the final class for the Leaf Node\n",
    "    \n",
    "    LeafValues : Array of shape = [no. of classes], No. of instances of each class\n",
    "                 in the leaf node.\n",
    "                 \n",
    "    RETURNS:\n",
    "    \n",
    "    Class to which this Leaf Node belongs to.\n",
    "    \"\"\"\n",
    "    \n",
    "    return np.argmax(LeafValues)"
   ]
  },
  {
   "cell_type": "markdown",
   "metadata": {},
   "source": [
    "Finally, keeping the above three conditions in mind we will start building the tree through recursive calls."
   ]
  },
  {
   "cell_type": "code",
   "execution_count": 99,
   "metadata": {},
   "outputs": [
    {
     "data": {
      "text/plain": [
       "array([0.42225156])"
      ]
     },
     "execution_count": 99,
     "metadata": {},
     "output_type": "execute_result"
    }
   ],
   "source": [
    "NodeGinifromData(a,2)"
   ]
  },
  {
   "cell_type": "markdown",
   "metadata": {},
   "source": [
    "Making a function to take input a data and find the best split and return two nodes for it"
   ]
  },
  {
   "cell_type": "code",
   "execution_count": 100,
   "metadata": {},
   "outputs": [],
   "source": [
    "def TreeNodeFromNode(Node, n_classes):\n",
    "    \"\"\"\n",
    "    Function to take input a data and find the best split and Add two nodes \n",
    "    in the Node\n",
    "    \n",
    "    Node : An instance of TreeNode class\n",
    "    n_classes : Integer, no. of classes\n",
    "    \n",
    "    RETURNS :\n",
    "    \n",
    "    Node after adding two nodes L and R after purest split.\n",
    "    \"\"\"\n",
    "    \n",
    "    data = Node.data\n",
    "    _,thres,_,dataL, dataR = SplitEvaluator(data, n_classes)\n",
    "    NodeL = TreeNode(dataL, None, None, n_classes)\n",
    "    NodeR = TreeNode(dataR, None, None, n_classes)\n",
    "    \n",
    "    Node.threshold = thres\n",
    "    Node.NodeL = NodeL\n",
    "    Node.NodeR = NodeR\n",
    "    \n",
    "    return None"
   ]
  },
  {
   "cell_type": "code",
   "execution_count": 101,
   "metadata": {},
   "outputs": [],
   "source": [
    "Node = TreeNode(a, None, None, 2)"
   ]
  },
  {
   "cell_type": "code",
   "execution_count": 102,
   "metadata": {},
   "outputs": [
    {
     "data": {
      "text/plain": [
       "array([[ 2.77124472,  1.78478393,  0.        ],\n",
       "       [ 1.72857131,  1.16976141,  0.        ],\n",
       "       [ 3.67831985,  2.81281357,  0.        ],\n",
       "       [ 3.96104336,  2.61995032,  0.        ],\n",
       "       [ 2.99920892,  2.20901421,  0.        ],\n",
       "       [ 7.49754587,  3.16295355,  1.        ],\n",
       "       [ 9.00220326,  3.33904719,  1.        ],\n",
       "       [ 7.44454233,  0.47668338,  1.        ],\n",
       "       [10.12493903,  3.23455098,  1.        ],\n",
       "       [ 6.64228735,  3.31998376,  1.        ]])"
      ]
     },
     "execution_count": 102,
     "metadata": {},
     "output_type": "execute_result"
    }
   ],
   "source": [
    "a"
   ]
  },
  {
   "cell_type": "code",
   "execution_count": 103,
   "metadata": {},
   "outputs": [],
   "source": [
    "Node.NodeR"
   ]
  },
  {
   "cell_type": "code",
   "execution_count": 104,
   "metadata": {},
   "outputs": [],
   "source": [
    "TreeNodeFromNode(Node, 2)"
   ]
  },
  {
   "cell_type": "code",
   "execution_count": 105,
   "metadata": {},
   "outputs": [
    {
     "data": {
      "text/plain": [
       "array([[ 2.77124472,  1.78478393,  0.        ],\n",
       "       [ 1.72857131,  1.16976141,  0.        ],\n",
       "       [ 3.67831985,  2.81281357,  0.        ],\n",
       "       [ 3.96104336,  2.61995032,  0.        ],\n",
       "       [ 2.99920892,  2.20901421,  0.        ],\n",
       "       [ 7.49754587,  3.16295355,  1.        ],\n",
       "       [ 9.00220326,  3.33904719,  1.        ],\n",
       "       [ 7.44454233,  0.47668338,  1.        ],\n",
       "       [10.12493903,  3.23455098,  1.        ],\n",
       "       [ 6.64228735,  3.31998376,  1.        ]])"
      ]
     },
     "execution_count": 105,
     "metadata": {},
     "output_type": "execute_result"
    }
   ],
   "source": [
    "Node.data"
   ]
  },
  {
   "cell_type": "code",
   "execution_count": 106,
   "metadata": {},
   "outputs": [
    {
     "data": {
      "text/plain": [
       "array([[ 7.49754587,  3.16295355,  1.        ],\n",
       "       [ 9.00220326,  3.33904719,  1.        ],\n",
       "       [ 7.44454233,  0.47668338,  1.        ],\n",
       "       [10.12493903,  3.23455098,  1.        ],\n",
       "       [ 6.64228735,  3.31998376,  1.        ]])"
      ]
     },
     "execution_count": 106,
     "metadata": {},
     "output_type": "execute_result"
    }
   ],
   "source": [
    "Node.NodeR.data"
   ]
  },
  {
   "cell_type": "code",
   "execution_count": 107,
   "metadata": {},
   "outputs": [
    {
     "data": {
      "text/plain": [
       "(3.961043357, 0)"
      ]
     },
     "execution_count": 107,
     "metadata": {},
     "output_type": "execute_result"
    }
   ],
   "source": [
    "Node.threshold"
   ]
  },
  {
   "cell_type": "markdown",
   "metadata": {},
   "source": [
    "Now a function which should be called recursively."
   ]
  },
  {
   "cell_type": "code",
   "execution_count": 137,
   "metadata": {},
   "outputs": [],
   "source": [
    "def RecursiveTreeMaker(ListOfNodes, max_depth, min_samples, curr_depth, n_classes ): \n",
    "    \"\"\"\n",
    "    Makes the tree recursively\n",
    "    \n",
    "    Let's just focus on creating a full tree which reaches max depth each time\n",
    "    \"\"\"\n",
    "    \n",
    "    \n",
    "    if curr_depth > max_depth:\n",
    "        return ListOfNodes\n",
    "    \n",
    "    newListOfNodes = []\n",
    "    for node in ListOfNodes:\n",
    "        \n",
    "        if node.giniScore == 0.0:\n",
    "            continue\n",
    "            \n",
    "        elif np.sum(node.values) < min_samples:\n",
    "            continue \n",
    "        \n",
    "        TreeNodeFromNode(node, n_classes)\n",
    "        \n",
    "        newListOfNodes.append(node.NodeL)\n",
    "        newListOfNodes.append(node.NodeR)\n",
    "        \n",
    "    print(len(newListOfNodes))\n",
    "    \n",
    "    RecursiveTreeMaker(newListOfNodes, max_depth, min_samples, curr_depth+1, n_classes)"
   ]
  },
  {
   "cell_type": "code",
   "execution_count": 138,
   "metadata": {},
   "outputs": [],
   "source": [
    "Node = TreeNode(a, None, None, 2)"
   ]
  },
  {
   "cell_type": "code",
   "execution_count": 139,
   "metadata": {},
   "outputs": [
    {
     "data": {
      "text/plain": [
       "True"
      ]
     },
     "execution_count": 139,
     "metadata": {},
     "output_type": "execute_result"
    }
   ],
   "source": [
    "Node.NodeL == None and Node.NodeR == None "
   ]
  },
  {
   "cell_type": "code",
   "execution_count": 140,
   "metadata": {},
   "outputs": [
    {
     "data": {
      "text/plain": [
       "array([[ 2.77124472,  1.78478393,  0.        ],\n",
       "       [ 1.72857131,  1.16976141,  0.        ],\n",
       "       [ 3.67831985,  2.81281357,  0.        ],\n",
       "       [ 3.96104336,  2.61995032,  0.        ],\n",
       "       [ 2.99920892,  2.20901421,  0.        ],\n",
       "       [ 7.49754587,  3.16295355,  1.        ],\n",
       "       [ 9.00220326,  3.33904719,  1.        ],\n",
       "       [ 7.44454233,  0.47668338,  1.        ],\n",
       "       [10.12493903,  3.23455098,  1.        ],\n",
       "       [ 6.64228735,  3.31998376,  1.        ]])"
      ]
     },
     "execution_count": 140,
     "metadata": {},
     "output_type": "execute_result"
    }
   ],
   "source": [
    "Node.data"
   ]
  },
  {
   "cell_type": "code",
   "execution_count": 141,
   "metadata": {},
   "outputs": [
    {
     "data": {
      "text/plain": [
       "0.42225155781074575"
      ]
     },
     "execution_count": 141,
     "metadata": {},
     "output_type": "execute_result"
    }
   ],
   "source": [
    "Node.giniScore"
   ]
  },
  {
   "cell_type": "code",
   "execution_count": 146,
   "metadata": {},
   "outputs": [
    {
     "name": "stdout",
     "output_type": "stream",
     "text": [
      "2\n",
      "0\n",
      "0\n",
      "0\n"
     ]
    }
   ],
   "source": [
    "RecursiveTreeMaker([Node], 3,5,0, 2)"
   ]
  },
  {
   "cell_type": "code",
   "execution_count": 147,
   "metadata": {},
   "outputs": [
    {
     "data": {
      "text/plain": [
       "array([0., 5.])"
      ]
     },
     "execution_count": 147,
     "metadata": {},
     "output_type": "execute_result"
    }
   ],
   "source": [
    "Node.NodeR.values"
   ]
  },
  {
   "cell_type": "code",
   "execution_count": 148,
   "metadata": {},
   "outputs": [],
   "source": [
    "def PrintTree(Node):\n",
    "    \n",
    "    \n",
    "    \n",
    "    print(\"Head\")\n",
    "    print('\\n')\n",
    "    print(\"Data\\n\")\n",
    "    print(Node.data)\n",
    "    print('\\n')\n",
    "    print(\"Value: \", Node.values)\n",
    "    print('\\n')\n",
    "    print(\"GiniScore: \", Node.giniScore)\n",
    "    \n",
    "   \n",
    "    \n",
    "    if Node.NodeL != None:\n",
    "    \n",
    "        print(\"\\n\\n\\n\")\n",
    "        print(\"Left\")\n",
    "        print('\\n')\n",
    "        print(\"Data\\n\")\n",
    "        print(Node.NodeL.data)\n",
    "        print('\\n')\n",
    "        print(\"Value: \", Node.NodeL.values)\n",
    "        print('\\n')\n",
    "        print(\"GiniScore: \", Node.NodeL.giniScore)\n",
    "        \n",
    "    if Node.NodeR != None:\n",
    "\n",
    "        print(\"\\n\\n\\n\")\n",
    "        print(\"Right\")\n",
    "        print('\\n')\n",
    "        print(\"Data\\n\")\n",
    "        print(Node.NodeR.data)\n",
    "        print('\\n')\n",
    "        print(\"Value: \", Node.NodeR.values)\n",
    "        print('\\n')\n",
    "        print(\"GiniScore: \", Node.NodeR.giniScore)\n",
    "    \n",
    "    \n",
    "    elif ((Node.NodeL == None)&(Node.NodeR == None)):\n",
    "        return"
   ]
  },
  {
   "cell_type": "code",
   "execution_count": 149,
   "metadata": {
    "scrolled": true
   },
   "outputs": [
    {
     "name": "stdout",
     "output_type": "stream",
     "text": [
      "Head\n",
      "\n",
      "\n",
      "Data\n",
      "\n",
      "[[ 2.77124472  1.78478393  0.        ]\n",
      " [ 1.72857131  1.16976141  0.        ]\n",
      " [ 3.67831985  2.81281357  0.        ]\n",
      " [ 3.96104336  2.61995032  0.        ]\n",
      " [ 2.99920892  2.20901421  0.        ]\n",
      " [ 7.49754587  3.16295355  1.        ]\n",
      " [ 9.00220326  3.33904719  1.        ]\n",
      " [ 7.44454233  0.47668338  1.        ]\n",
      " [10.12493903  3.23455098  1.        ]\n",
      " [ 6.64228735  3.31998376  1.        ]]\n",
      "\n",
      "\n",
      "Value:  [5. 5.]\n",
      "\n",
      "\n",
      "GiniScore:  0.42225155781074575\n",
      "\n",
      "\n",
      "\n",
      "\n",
      "Left\n",
      "\n",
      "\n",
      "Data\n",
      "\n",
      "[[2.77124472 1.78478393 0.        ]\n",
      " [1.72857131 1.16976141 0.        ]\n",
      " [3.67831985 2.81281357 0.        ]\n",
      " [3.96104336 2.61995032 0.        ]\n",
      " [2.99920892 2.20901421 0.        ]]\n",
      "\n",
      "\n",
      "Value:  [5. 0.]\n",
      "\n",
      "\n",
      "GiniScore:  0.0\n",
      "\n",
      "\n",
      "\n",
      "\n",
      "Right\n",
      "\n",
      "\n",
      "Data\n",
      "\n",
      "[[ 7.49754587  3.16295355  1.        ]\n",
      " [ 9.00220326  3.33904719  1.        ]\n",
      " [ 7.44454233  0.47668338  1.        ]\n",
      " [10.12493903  3.23455098  1.        ]\n",
      " [ 6.64228735  3.31998376  1.        ]]\n",
      "\n",
      "\n",
      "Value:  [0. 5.]\n",
      "\n",
      "\n",
      "GiniScore:  0.0\n"
     ]
    }
   ],
   "source": [
    "PrintTree(Node)"
   ]
  },
  {
   "cell_type": "code",
   "execution_count": 150,
   "metadata": {},
   "outputs": [],
   "source": [
    "sample_data = np.random.normal(6,3,[100,4])"
   ]
  },
  {
   "cell_type": "code",
   "execution_count": 151,
   "metadata": {},
   "outputs": [
    {
     "data": {
      "text/plain": [
       "array([[ 4.24351657,  9.09206202,  9.09792826,  5.41717701],\n",
       "       [ 9.71431478,  3.57255848,  7.51859789, 10.07536702],\n",
       "       [ 3.38600403,  9.71676306,  7.91752294,  9.44748285],\n",
       "       [ 7.84640874,  1.48088124,  7.44012912,  3.53729783],\n",
       "       [ 8.39551102, -0.7959244 ,  3.58928619,  5.48416522]])"
      ]
     },
     "execution_count": 151,
     "metadata": {},
     "output_type": "execute_result"
    }
   ],
   "source": [
    "sample_data[:5,:]"
   ]
  },
  {
   "cell_type": "code",
   "execution_count": 152,
   "metadata": {},
   "outputs": [],
   "source": [
    "sample_data = np.c_[sample_data, np.zeros([100,1])]"
   ]
  },
  {
   "cell_type": "code",
   "execution_count": 153,
   "metadata": {},
   "outputs": [],
   "source": [
    "sample_data[60:,-1] = 1"
   ]
  },
  {
   "cell_type": "code",
   "execution_count": 154,
   "metadata": {
    "scrolled": true
   },
   "outputs": [
    {
     "data": {
      "text/plain": [
       "array([[ 4.24351657e+00,  9.09206202e+00,  9.09792826e+00,\n",
       "         5.41717701e+00,  0.00000000e+00],\n",
       "       [ 9.71431478e+00,  3.57255848e+00,  7.51859789e+00,\n",
       "         1.00753670e+01,  0.00000000e+00],\n",
       "       [ 3.38600403e+00,  9.71676306e+00,  7.91752294e+00,\n",
       "         9.44748285e+00,  0.00000000e+00],\n",
       "       [ 7.84640874e+00,  1.48088124e+00,  7.44012912e+00,\n",
       "         3.53729783e+00,  0.00000000e+00],\n",
       "       [ 8.39551102e+00, -7.95924401e-01,  3.58928619e+00,\n",
       "         5.48416522e+00,  0.00000000e+00],\n",
       "       [ 6.26296227e+00,  1.83439813e+00,  8.20088745e+00,\n",
       "         4.50917842e+00,  0.00000000e+00],\n",
       "       [ 9.41507834e+00,  3.70021566e+00,  8.55579883e+00,\n",
       "         7.34419750e+00,  0.00000000e+00],\n",
       "       [ 8.27348898e+00,  6.71061870e+00,  4.11947831e+00,\n",
       "         6.42477164e+00,  0.00000000e+00],\n",
       "       [ 5.77219544e+00,  2.27096013e+00, -7.71409089e-03,\n",
       "         8.09106565e+00,  0.00000000e+00],\n",
       "       [ 8.46791860e+00,  1.12990704e+01,  4.71328204e+00,\n",
       "         5.88580017e+00,  0.00000000e+00],\n",
       "       [ 3.25140832e+00,  4.56476477e+00,  8.10795259e+00,\n",
       "         2.43456595e+00,  0.00000000e+00],\n",
       "       [ 9.79603105e+00,  6.88384074e+00,  7.23322928e+00,\n",
       "         1.03150380e+01,  0.00000000e+00],\n",
       "       [ 6.47240159e-01,  1.18515973e+01,  7.63954741e+00,\n",
       "         9.28002012e+00,  0.00000000e+00],\n",
       "       [ 4.63348298e+00,  7.13159623e+00,  7.61422046e+00,\n",
       "         5.99124259e+00,  0.00000000e+00],\n",
       "       [ 4.68796135e+00,  5.84351382e+00,  4.36933384e+00,\n",
       "         2.47781162e+00,  0.00000000e+00],\n",
       "       [ 6.44128241e+00,  9.58568075e+00,  1.02932206e+01,\n",
       "         1.00595426e+01,  0.00000000e+00],\n",
       "       [ 3.74363427e+00,  8.90550246e+00, -1.01229539e-01,\n",
       "         2.75694305e+00,  0.00000000e+00],\n",
       "       [ 6.98226441e+00,  3.61015378e+00,  8.46320956e+00,\n",
       "         1.07420412e+01,  0.00000000e+00],\n",
       "       [ 6.35561324e+00,  4.02300242e+00,  1.00367117e+01,\n",
       "         9.15867690e+00,  0.00000000e+00],\n",
       "       [ 2.44071599e+00,  2.23553675e+00,  7.42971871e+00,\n",
       "         4.63472979e+00,  0.00000000e+00],\n",
       "       [ 1.02534845e+01,  9.52353330e+00,  7.19912702e+00,\n",
       "         4.60261536e+00,  0.00000000e+00],\n",
       "       [ 6.30621257e+00,  7.90115391e+00,  4.80123804e+00,\n",
       "         4.28526643e+00,  0.00000000e+00],\n",
       "       [ 8.90933565e+00,  7.39628146e+00,  9.17407759e+00,\n",
       "         1.52578792e+00,  0.00000000e+00],\n",
       "       [ 3.80077546e+00,  1.70785761e+00,  5.65407389e+00,\n",
       "         7.11444162e+00,  0.00000000e+00],\n",
       "       [ 1.28771140e+00,  1.47774426e+00,  1.27545438e+01,\n",
       "         2.62609633e+00,  0.00000000e+00],\n",
       "       [-8.72860142e-01,  8.89092145e+00,  1.33114105e+01,\n",
       "         7.96670487e+00,  0.00000000e+00],\n",
       "       [ 1.06750606e+01,  8.55475286e+00,  6.16108881e+00,\n",
       "         8.28053159e+00,  0.00000000e+00],\n",
       "       [ 3.30439655e+00,  5.44490489e+00,  5.93428512e+00,\n",
       "         4.33366917e+00,  0.00000000e+00],\n",
       "       [ 9.97331658e+00,  6.06852802e+00,  3.00876828e+00,\n",
       "         7.25924090e+00,  0.00000000e+00],\n",
       "       [ 7.69262388e+00,  1.91322141e+00,  6.25679162e+00,\n",
       "         1.14188897e+01,  0.00000000e+00],\n",
       "       [ 5.38273456e+00,  4.01645699e+00,  4.10438379e+00,\n",
       "         8.14225072e+00,  0.00000000e+00],\n",
       "       [ 8.59824999e+00,  2.14843976e+00,  6.96688705e+00,\n",
       "         5.08706275e+00,  0.00000000e+00],\n",
       "       [ 3.87649666e+00,  6.40686207e+00,  9.87977606e+00,\n",
       "         6.50818146e+00,  0.00000000e+00],\n",
       "       [ 2.82721893e+00,  6.82463542e+00,  9.03248801e-01,\n",
       "         7.41872237e+00,  0.00000000e+00],\n",
       "       [ 5.83670935e+00,  2.91595766e+00,  1.18301695e+00,\n",
       "         5.07920576e+00,  0.00000000e+00],\n",
       "       [ 1.23366627e+01,  3.70134328e+00,  5.45854741e+00,\n",
       "         3.57346382e+00,  0.00000000e+00],\n",
       "       [ 5.41075894e+00,  9.37463814e+00,  4.86446712e+00,\n",
       "         1.10983341e+01,  0.00000000e+00],\n",
       "       [ 4.36689652e-02,  1.32180091e+01, -1.40380464e+00,\n",
       "         6.77400198e+00,  0.00000000e+00],\n",
       "       [ 7.02864066e+00,  9.57799172e+00,  6.98766591e+00,\n",
       "         6.31304170e+00,  0.00000000e+00],\n",
       "       [ 6.37996696e+00, -6.06793122e-02,  9.68228795e+00,\n",
       "         5.43872796e+00,  0.00000000e+00],\n",
       "       [ 7.55369714e+00,  6.94879915e+00,  3.70347321e+00,\n",
       "         2.96828588e+00,  0.00000000e+00],\n",
       "       [ 1.03871120e+01,  3.28952038e+00,  3.70146251e+00,\n",
       "         5.19758119e+00,  0.00000000e+00],\n",
       "       [ 7.73174074e+00,  5.20969484e+00,  1.03869540e+01,\n",
       "         4.12732264e+00,  0.00000000e+00],\n",
       "       [ 1.06713475e+01,  6.83433092e+00,  9.42788673e+00,\n",
       "         6.52636714e+00,  0.00000000e+00],\n",
       "       [ 4.21211078e+00,  2.27275833e+00,  1.06560162e+01,\n",
       "         8.24122551e+00,  0.00000000e+00],\n",
       "       [ 1.28947174e+01,  9.47469770e+00,  5.22007211e+00,\n",
       "         5.52463593e+00,  0.00000000e+00],\n",
       "       [-4.74461207e-01,  6.56691152e+00,  8.19106653e+00,\n",
       "         6.58185205e+00,  0.00000000e+00],\n",
       "       [ 1.64425576e+00,  8.94853988e+00,  4.60096670e+00,\n",
       "         2.30375345e+00,  0.00000000e+00],\n",
       "       [ 3.75113664e+00,  5.68292308e+00,  6.67948175e+00,\n",
       "         7.10704369e+00,  0.00000000e+00],\n",
       "       [ 4.73951007e+00,  1.12729994e+01,  8.78065211e+00,\n",
       "         1.00563133e+01,  0.00000000e+00],\n",
       "       [ 3.60525412e+00,  6.11840937e+00,  6.63287312e+00,\n",
       "         7.71587784e+00,  0.00000000e+00],\n",
       "       [ 4.41818566e+00,  1.63613055e+00,  7.07899915e+00,\n",
       "         1.38559649e+00,  0.00000000e+00],\n",
       "       [ 3.39316260e+00,  1.03103900e+01,  1.03272036e+01,\n",
       "         5.60254304e+00,  0.00000000e+00],\n",
       "       [ 6.47098229e+00,  8.29466179e+00,  3.74322958e+00,\n",
       "         6.81121118e+00,  0.00000000e+00],\n",
       "       [ 4.25097097e+00,  1.96570997e+00,  7.84560354e+00,\n",
       "         1.49335705e+00,  0.00000000e+00],\n",
       "       [ 4.96657144e+00,  6.44398701e+00,  6.26334677e+00,\n",
       "         1.08771066e+01,  0.00000000e+00],\n",
       "       [ 7.08102965e+00,  1.13707349e+01,  3.03291206e+00,\n",
       "         7.03125484e+00,  0.00000000e+00],\n",
       "       [ 8.85174114e+00,  4.91340134e+00,  3.91705755e+00,\n",
       "         7.11131224e-01,  0.00000000e+00],\n",
       "       [ 7.15813741e+00,  6.52214130e+00,  3.90136012e+00,\n",
       "         1.15016991e+01,  0.00000000e+00],\n",
       "       [ 5.52810227e+00, -1.06308353e+00,  3.74513336e+00,\n",
       "         5.80763305e+00,  0.00000000e+00],\n",
       "       [ 6.04968114e+00,  9.95010005e+00,  5.56787213e+00,\n",
       "         4.33909622e+00,  1.00000000e+00],\n",
       "       [ 2.60012162e+00,  3.57451301e+00,  5.36534238e+00,\n",
       "         8.88743517e+00,  1.00000000e+00],\n",
       "       [ 6.72621005e+00,  5.89292225e+00,  1.05023016e+01,\n",
       "         2.48855709e+00,  1.00000000e+00],\n",
       "       [ 7.07885304e+00,  4.11459647e+00,  6.43190544e+00,\n",
       "         1.05017035e+01,  1.00000000e+00],\n",
       "       [ 4.29008592e+00,  2.48426689e+00,  2.11660035e+00,\n",
       "         6.98360108e+00,  1.00000000e+00],\n",
       "       [ 3.93455351e+00,  5.61416688e+00,  4.57892899e+00,\n",
       "         8.72023024e+00,  1.00000000e+00],\n",
       "       [ 3.09807601e+00,  5.08855600e+00,  6.74364135e+00,\n",
       "         1.23044135e+01,  1.00000000e+00],\n",
       "       [ 6.64130969e+00,  4.78695958e+00,  2.21063840e+00,\n",
       "         8.63697960e+00,  1.00000000e+00],\n",
       "       [ 2.47637258e+00,  4.58399623e+00,  2.14741314e+00,\n",
       "         7.28267642e+00,  1.00000000e+00],\n",
       "       [ 3.38344494e+00, -1.14752786e+00,  5.63123924e+00,\n",
       "         5.31009602e+00,  1.00000000e+00],\n",
       "       [ 4.28793234e+00,  3.47332908e+00,  3.06004089e+00,\n",
       "         8.70525857e+00,  1.00000000e+00],\n",
       "       [ 3.16155000e+00,  4.30322651e+00,  7.65699668e+00,\n",
       "         4.98617677e+00,  1.00000000e+00],\n",
       "       [ 9.19223060e-01,  9.04883408e+00,  9.48140841e+00,\n",
       "         5.59931379e+00,  1.00000000e+00],\n",
       "       [ 6.55748898e+00,  6.08956670e+00,  5.04804993e+00,\n",
       "         1.03823261e+01,  1.00000000e+00],\n",
       "       [ 3.56530659e+00,  7.25462314e+00,  4.30681716e+00,\n",
       "         9.71724866e+00,  1.00000000e+00],\n",
       "       [ 8.16315207e+00,  6.70296913e+00,  8.44534533e+00,\n",
       "         9.79736482e+00,  1.00000000e+00],\n",
       "       [ 8.20238300e+00,  3.87525965e+00,  7.99916456e+00,\n",
       "         2.32659811e+00,  1.00000000e+00],\n",
       "       [ 6.91185011e+00, -3.05169482e+00,  2.89832112e+00,\n",
       "         4.99649587e+00,  1.00000000e+00],\n",
       "       [ 9.00628704e+00,  6.24152776e+00,  1.10510199e+01,\n",
       "         6.82578934e+00,  1.00000000e+00],\n",
       "       [ 6.36308930e+00,  8.88621629e+00,  8.83506603e+00,\n",
       "         8.63737482e+00,  1.00000000e+00],\n",
       "       [ 8.81068513e+00,  8.57198653e+00,  6.04213221e+00,\n",
       "         7.60832981e+00,  1.00000000e+00],\n",
       "       [ 8.63311918e+00,  6.15709105e+00,  7.41712921e+00,\n",
       "         1.93382557e+00,  1.00000000e+00],\n",
       "       [ 5.42719002e-01,  2.43387984e+00,  2.87254125e+00,\n",
       "         5.81895394e+00,  1.00000000e+00],\n",
       "       [ 7.37940948e+00,  5.34033229e+00,  4.58499469e+00,\n",
       "         5.85871429e+00,  1.00000000e+00],\n",
       "       [ 6.70754522e+00,  6.89805215e+00,  6.68206649e+00,\n",
       "         1.17005643e+01,  1.00000000e+00],\n",
       "       [ 2.74947394e+00,  1.81275515e+00,  9.75362133e+00,\n",
       "         7.31815367e+00,  1.00000000e+00],\n",
       "       [ 7.99753447e+00,  1.46286612e+00,  6.89581151e+00,\n",
       "         1.05532082e+01,  1.00000000e+00],\n",
       "       [ 7.35723344e+00,  6.85366996e+00,  6.25800973e+00,\n",
       "         4.66124804e+00,  1.00000000e+00],\n",
       "       [ 7.02440808e+00,  8.51540502e+00,  5.39609478e+00,\n",
       "         5.67733689e+00,  1.00000000e+00],\n",
       "       [ 1.03242561e+01,  1.76780414e+00,  8.15077937e+00,\n",
       "         2.82746007e+00,  1.00000000e+00],\n",
       "       [ 4.95147945e+00,  7.39908854e+00,  6.36494541e+00,\n",
       "         5.10434881e-01,  1.00000000e+00],\n",
       "       [ 5.72903240e+00,  5.02401191e+00,  4.01142374e+00,\n",
       "         4.17810816e+00,  1.00000000e+00],\n",
       "       [ 6.91089539e+00,  3.57359762e+00,  4.55481919e+00,\n",
       "         2.07477384e+00,  1.00000000e+00],\n",
       "       [ 9.34866708e+00,  1.00331279e+01,  6.52295845e+00,\n",
       "         2.39414631e+00,  1.00000000e+00],\n",
       "       [ 6.87904297e+00,  7.65794906e+00,  7.10080870e+00,\n",
       "         7.78345360e+00,  1.00000000e+00],\n",
       "       [ 6.48655275e+00,  6.13775805e+00,  5.89788972e+00,\n",
       "         2.75623098e+00,  1.00000000e+00],\n",
       "       [ 8.27560239e+00,  3.97617272e+00,  7.43898960e+00,\n",
       "         8.83772138e+00,  1.00000000e+00],\n",
       "       [ 9.38462730e-01,  2.26276002e+00,  2.96905445e+00,\n",
       "         3.08329607e+00,  1.00000000e+00],\n",
       "       [ 2.91366267e+00,  4.33752089e+00,  8.52060725e+00,\n",
       "         4.39908041e+00,  1.00000000e+00],\n",
       "       [ 9.63499915e+00,  1.58751098e+00,  6.84777899e+00,\n",
       "         2.77686710e+00,  1.00000000e+00]])"
      ]
     },
     "execution_count": 154,
     "metadata": {},
     "output_type": "execute_result"
    }
   ],
   "source": [
    "sample_data"
   ]
  },
  {
   "cell_type": "code",
   "execution_count": 155,
   "metadata": {},
   "outputs": [],
   "source": [
    "Root = TreeNode(sample_data, None, None, 2)"
   ]
  },
  {
   "cell_type": "code",
   "execution_count": 156,
   "metadata": {},
   "outputs": [
    {
     "name": "stdout",
     "output_type": "stream",
     "text": [
      "2\n",
      "4\n",
      "4\n",
      "4\n",
      "2\n"
     ]
    }
   ],
   "source": [
    "RecursiveTreeMaker([Root], 4, 10, 0, 2)"
   ]
  },
  {
   "cell_type": "code",
   "execution_count": 166,
   "metadata": {},
   "outputs": [],
   "source": [
    "def TreeMaker(dataset, max_depth, min_samples, n_classes):\n",
    "    \"\"\"\n",
    "    Creates the Tree and returns it's Root Node\n",
    "    \n",
    "    dataset : Array of shape = [n_rows, n_feat]\n",
    "    max_depth : Maximum depth of the tree\n",
    "    n_classes : No.of classes\n",
    "    \"\"\"\n",
    "    \n",
    "    Root = TreeNode(dataset, None, None, n_classes)\n",
    "    \n",
    "    RecursiveTreeMaker([Root], max_depth, min_samples, 1 , n_classes)\n",
    "    \n",
    "    return Root"
   ]
  },
  {
   "cell_type": "code",
   "execution_count": 168,
   "metadata": {},
   "outputs": [
    {
     "name": "stdout",
     "output_type": "stream",
     "text": [
      "2\n",
      "4\n",
      "4\n",
      "4\n",
      "2\n"
     ]
    }
   ],
   "source": [
    "Root = TreeMaker(sample_data, 5, 10, 2)"
   ]
  },
  {
   "cell_type": "code",
   "execution_count": 171,
   "metadata": {},
   "outputs": [],
   "source": [
    "class DecisionTrees:\n",
    "\n",
    "    \n",
    "    \"\"\"\n",
    "    ***************DECISION TREES********************\n",
    "    \n",
    "    Call function TreeMaker() to get the Root of the tree with all connections to \n",
    "    next branches.\n",
    "    \"\"\"\n",
    "     \n",
    "    def __init__(self, dataset, max_depth, min_samples, n_classes):\n",
    "        \n",
    "        self.dataset = dataset\n",
    "        self.max_depth = max_depth\n",
    "        self.min_samples = min_samples\n",
    "        self.n_classes = n_classes\n",
    "        \n",
    "        \n",
    "    \n",
    "    class TreeNode:\n",
    "    \n",
    "        def __init__(self, data, NodeL, NodeR, n_classes):\n",
    "\n",
    "            assert data.ndim == 2\n",
    "\n",
    "            self.data = data\n",
    "            self.values = np.zeros(n_classes)\n",
    "            for i in range(n_classes):\n",
    "                self.values[i] = np.sum(self.data[:,-1] == i)\n",
    "            self.NodeL = NodeL\n",
    "            self.NodeR = NodeR\n",
    "            self.giniScore = NodeGinifromData(self.data, n_classes)[0]\n",
    "            self.threshold = None\n",
    "            if (((self.NodeL != None) or (self.NodeR!= None)) and self.threshold == None):\n",
    "                raise ValueError(\"Node's Threshold not set before splitting.\")\n",
    "    \n",
    "    \n",
    "    def NodesGiniScore(arrNodes):\n",
    "        \"\"\"\n",
    "        Takes a Numpy Array containing Node's no. of class instances for each class\n",
    "        & returns each Node's Gini Score\n",
    "\n",
    "        arrNodes : shape = [No. of Nodes, No. of Classes], np.array type containing of Nodes with each \n",
    "                    element containing the number of class instances\n",
    "\n",
    "        RETURNS : \n",
    "\n",
    "        Vector containing the Gini score of each Node that was passed \n",
    "\n",
    "        Example:\n",
    "\n",
    "        IN>>NodesGiniScore(np.array([[1,1,34],[1,2,3], [50,50,50]]))\n",
    "        OUT>>array([0.10648148, 0.61111111, 0.66666667])\n",
    "\n",
    "\n",
    "        \"\"\"\n",
    "\n",
    "        Nodesums = np.sum(arrNodes, axis = 1)\n",
    "\n",
    "        Nodesums = Nodesums.astype(np.float64)\n",
    "\n",
    "        Nodesums[Nodesums == 0] = np.inf\n",
    "\n",
    "        return 1 - np.sum(np.power(arrNodes*np.reshape((1/Nodesums),[-1,1]),2), axis = 1)\n",
    "    \n",
    "    \n",
    "    def Split_GiniIndex(splitL, splitR, n_classes):\n",
    "        \"\"\"\n",
    "        Calculates the Gini Index (or the Cost for the split) for the \n",
    "        split nodes entered.\n",
    "\n",
    "        splitL, splitR : Arrays of shape = [No. of Rows for this split, No. of features], the array after splitting the dataset\n",
    "        n_classes : The number of classes.\n",
    "\n",
    "        NOTE: 1. Function expects for the last feature/column to contain the Class Index\n",
    "                 in the numerical form, i.e. like 0,1,2,...,n-1\n",
    "\n",
    "              2. This function also neglects that split which is empty\n",
    "\n",
    "        RETURNS:\n",
    "\n",
    "        The final Gini Index for this Split.\n",
    "        \"\"\"\n",
    "\n",
    "\n",
    "        valuesL = np.zeros(n_classes)\n",
    "        valuesR = np.zeros(n_classes)\n",
    "\n",
    "        if splitL.shape[0] == 0:\n",
    "            for i in range(n_classes):\n",
    "                valuesR[i] = np.sum(splitR[:,-1] == i)\n",
    "        elif splitR.shape[0] == 0:\n",
    "            for i in range(n_classes):\n",
    "                valuesL[i] = np.sum(splitL[:,-1] == i)\n",
    "        else:\n",
    "            for i in range(n_classes):\n",
    "                valuesR[i] = np.sum(splitR[:,-1] == i)\n",
    "                valuesL[i] = np.sum(splitL[:,-1] == i)\n",
    "\n",
    "\n",
    "\n",
    "        GiniL, GiniR = NodesGiniScore([valuesL, valuesR])\n",
    "\n",
    "        Lrows = splitL.shape[0]\n",
    "        Rrows = splitR.shape[0]\n",
    "\n",
    "        GiniIndex = GiniL * Lrows/(Lrows+Rrows) + GiniR * Rrows/(Lrows+Rrows) \n",
    "    \n",
    "        return GiniIndex\n",
    "    \n",
    "\n",
    "    def Splitter(values ,threshold, feature_index = 0):\n",
    "        \"\"\"\n",
    "        Splits the dataset (values) into two subsets via splitting through threshold\n",
    "        for feature present at feature_index\n",
    "\n",
    "        values : shape = [No. of rows, No. of features], The dataset to split\n",
    "        threshold : Float, the value by which to compare and split the dataset\n",
    "        feature_index : Integer, the index of the feature(column) through which\n",
    "                        comparison will be drawn for splitting\n",
    "\n",
    "        RETURNS : \n",
    "\n",
    "        The two splits done by threshold for feature_index.\n",
    "        \"\"\"\n",
    "        if feature_index >= values.shape[1]-1:\n",
    "            raise ValueError(\"feature_index {} is greater the possible column index values {}. Note that it's assumed that last column is for numerical class \".format(feature_index,values.shape[1]))\n",
    "\n",
    "        left = values[values[:,feature_index] <= threshold]\n",
    "        right = values[values[:,feature_index] > threshold]\n",
    "\n",
    "        return left, right\n",
    "    \n",
    "    \n",
    "    def SplitEvaluator(dataset, n_classes):\n",
    "        \"\"\"\n",
    "        Splits the dataset by each value in each attribute and then \n",
    "        finds the best split via Gini Impurity.\n",
    "\n",
    "        dataset : Numpy array of shape = [No. of Rows, No. of features], the data itself in raw form.\n",
    "\n",
    "        RETURNS : \n",
    "\n",
    "        Returns the Matrix containing gini Index value for the split using that row's \n",
    "        feature and threshold and index of best split in this Matrix (thus, the dataset too.)\n",
    "\n",
    "        giniIndexes : Shape = [dataset.shape[0], dataset.shape[1]-1]\n",
    "        (row, feat) : Coordinates for the best split in dataset or giniIndexes.\n",
    "        threshold and the feature index of the threshold.\n",
    "        \"\"\"\n",
    "        giniIndexes = np.zeros([dataset.shape[0], dataset.shape[1]-1]) #-1 to remove the class feature\n",
    "\n",
    "        for feat_i in range(dataset.shape[1] - 1):\n",
    "\n",
    "            for row_i in range(dataset.shape[0]):\n",
    "\n",
    "                threshold = dataset[row_i,feat_i]\n",
    "\n",
    "                splitL, splitR = Splitter(dataset, threshold, feat_i)\n",
    "\n",
    "                #Calculate this split's Gini Index\n",
    "\n",
    "                giniInd = Split_GiniIndex(splitL, splitR, n_classes)\n",
    "\n",
    "                giniIndexes[row_i, feat_i] = giniInd\n",
    "\n",
    "        coords =  np.argwhere(giniIndexes == np.min(giniIndexes))\n",
    "\n",
    "        bestsplitL, bestsplitR = Splitter(dataset, dataset[coords[0,0], coords[0,1]], coords[0,1])\n",
    "        best_gini = giniIndexes[coords[0,0], coords[0,1]]\n",
    "        threshold = dataset[coords[0,0], coords[0,1]], coords[0,1]\n",
    "\n",
    "        return giniIndexes, threshold, best_gini, bestsplitL, bestsplitR\n",
    "\n",
    "#{'GiniIndex':best_gini, 'NodeL': {'data': bestsplitL, 'NodeL':None, 'NodeR':None},\\\n",
    "                        #'NodeR': {'data': bestsplitR, 'NodeL':None, 'NodeR':None}  } \n",
    "    \n",
    "    def NodeGinifromData(data, n_classes):\n",
    "        \n",
    "        \"\"\"\n",
    "        Calculates Gini Score for a Node from the data directly\n",
    "\n",
    "        data : Array of shape = [n_rows, n_features]\n",
    "        \"\"\"\n",
    "\n",
    "        values = np.zeros([n_classes])\n",
    "\n",
    "        for i in range(n_classes):\n",
    "            values[i] = np.sum(data[data[:,-1] == i])\n",
    "\n",
    "        return NodesGiniScore([values])\n",
    "    \n",
    "    \n",
    "    def LeafClass(LeafValues):\n",
    "        \"\"\"\n",
    "        Returns the final class for the Leaf Node\n",
    "\n",
    "        LeafValues : Array of shape = [no. of classes], No. of instances of each class\n",
    "                     in the leaf node.\n",
    "\n",
    "        RETURNS:\n",
    "\n",
    "        Class to which this Leaf Node belongs to.\n",
    "        \"\"\"\n",
    "\n",
    "        return np.argmax(LeafValues)\n",
    "    \n",
    "    def TreeNodeFromNode(Node, n_classes):\n",
    "        \"\"\"\n",
    "        Function to take input a data and find the best split and Add two nodes \n",
    "        in the Node\n",
    "\n",
    "        Node : An instance of TreeNode class\n",
    "        n_classes : Integer, no. of classes\n",
    "\n",
    "        RETURNS :\n",
    "\n",
    "        Node after adding two nodes L and R after purest split.\n",
    "        \"\"\"\n",
    "\n",
    "        data = Node.data\n",
    "        _,thres,_,dataL, dataR = SplitEvaluator(data, n_classes)\n",
    "        NodeL = TreeNode(dataL, None, None, n_classes)\n",
    "        NodeR = TreeNode(dataR, None, None, n_classes)\n",
    "\n",
    "        Node.threshold = thres\n",
    "        Node.NodeL = NodeL\n",
    "        Node.NodeR = NodeR\n",
    "\n",
    "        return None\n",
    "    \n",
    "        \n",
    "    def RecursiveTreeMaker(ListOfNodes, max_depth, min_samples, curr_depth, n_classes ): \n",
    "        \"\"\"\n",
    "        Makes the tree recursively\n",
    "        \n",
    "        \"\"\"\n",
    "\n",
    "\n",
    "        if curr_depth > max_depth:\n",
    "            return ListOfNodes\n",
    "\n",
    "        newListOfNodes = []\n",
    "        for node in ListOfNodes:\n",
    "\n",
    "            if node.giniScore == 0.0:\n",
    "                continue\n",
    "\n",
    "            elif np.sum(node.values) < min_samples:\n",
    "                continue \n",
    "\n",
    "            TreeNodeFromNode(node, n_classes)\n",
    "\n",
    "            newListOfNodes.append(node.NodeL)\n",
    "            newListOfNodes.append(node.NodeR)\n",
    "\n",
    "        print(len(newListOfNodes))\n",
    "\n",
    "        RecursiveTreeMaker(newListOfNodes, max_depth, min_samples, curr_depth+1, n_classes)\n",
    "\n",
    "        \n",
    "    def TreeMaker(self):\n",
    "        \"\"\"\n",
    "        Creates the Tree and returns it's Root Node\n",
    "\n",
    "        dataset : Array of shape = [n_rows, n_feat]\n",
    "        max_depth : Maximum depth of the tree\n",
    "        min_samples : Minimum no. of samples to be present at a Node,\n",
    "                        otherwise node wouldn't be constructed.\n",
    "        n_classes : No.of classes\n",
    "        \"\"\"\n",
    "\n",
    "        Root = TreeNode(self.dataset, None, None, self.n_classes)\n",
    "\n",
    "        RecursiveTreeMaker([Root], self.max_depth, self.min_samples, 1 , self.n_classes)\n",
    "\n",
    "        return Root  \n"
   ]
  },
  {
   "cell_type": "code",
   "execution_count": 172,
   "metadata": {},
   "outputs": [],
   "source": [
    "Tree = DecisionTrees(sample_data, max_depth=5, min_samples=10, n_classes=2)"
   ]
  },
  {
   "cell_type": "code",
   "execution_count": 174,
   "metadata": {},
   "outputs": [
    {
     "name": "stdout",
     "output_type": "stream",
     "text": [
      "2\n",
      "4\n",
      "4\n",
      "4\n",
      "2\n"
     ]
    }
   ],
   "source": [
    "Root = Tree.TreeMaker()"
   ]
  }
 ],
 "metadata": {
  "kernelspec": {
   "display_name": "Python 3",
   "language": "python",
   "name": "python3"
  },
  "language_info": {
   "codemirror_mode": {
    "name": "ipython",
    "version": 3
   },
   "file_extension": ".py",
   "mimetype": "text/x-python",
   "name": "python",
   "nbconvert_exporter": "python",
   "pygments_lexer": "ipython3",
   "version": "3.7.4"
  }
 },
 "nbformat": 4,
 "nbformat_minor": 4
}
